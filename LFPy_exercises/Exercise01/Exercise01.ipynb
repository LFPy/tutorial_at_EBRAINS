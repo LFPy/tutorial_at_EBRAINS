{
 "cells": [
  {
   "cell_type": "markdown",
   "id": "54f11b0c",
   "metadata": {},
   "source": [
    "# Exercise 01: Extracellular potentials from simple neuron models\n",
    "\n",
    "As described in PCMN [1] Section 13.2, a single-compartment (point) neuron does not generate any extracellular signal. The simplest neuron model generating an extracellular potential is the two-compartment model where, \n",
    "for example, one compartment represents the soma and the other the dendrite. In this exercise we will explore the extracellular potential set up by various simple neuron models. \n",
    "\n",
    "For the case of a single static (constant) current source $i$ in an infinite homogeneous and isotropic volume conductor with conductivity $\\sigma$, the potential around the position of the current source is given by (PCMN Equation 10.15):\n",
    "\n",
    "\\begin{equation}\n",
    "V_\\mathrm{e}(r)  = \\frac{i}{4 \\pi \\sigma r}.\n",
    "\\label{eq:Ve_single_source}\n",
    "\\end{equation}\n",
    "\n",
    "In the present exercise we will assume the value $\\sigma=0.3$ S/m.\n",
    "\n",
    "\n",
    "[1] Sterratt, Graham, Gillies, Einevoll, & Willshaw (2023). Principles of Computational Modelling in Neuroscience (2nd ed.) doi:10.1017/9781108672955\n",
    "\n"
   ]
  },
  {
   "cell_type": "markdown",
   "id": "776518d8",
   "metadata": {},
   "source": [
    "## Task 1: Current monopoles\n",
    "\n",
    "While single-compartment neurons do not produce any extracellular potential, the potential\n",
    "set up by a thin and sharp electrode injecting a current into the extracellular space\n",
    "will resemble the potential described by the equation above. \n",
    "\n",
    "\n",
    "* Write the Python code to make a 2D plot of the extracellular potential around the electrode tip set up by a constant current sink with a current of -1.0 nA. \n",
    "* Make a double-logarithmic plot showing how the potential varies with distance from the neuron, from 10 µm to 5000 µm. Can you read out the characteristic $1/r$-decay with distance from the plot? \n",
    "\n",
    "\n",
    "\n"
   ]
  },
  {
   "cell_type": "markdown",
   "id": "60cf44b7",
   "metadata": {},
   "source": [
    "\n",
    "\n",
    "## Task 2: Two-compartment neuron\n",
    "\n",
    "Next we consider a two-compartment model with a 100 µm distance between \n",
    "the top apical compartment and the bottom soma compartment. There is a constant membrane current sink\n",
    "of -1.0 nA in the apical compartment. This could mimic the effect of a (really) long-lasting excitatory input to the apical compartment.\n",
    "\n",
    "* What is the membrane current in the basal compartment?\n",
    "* What is the axial current between the two compartments?\n",
    "* Write the Python code to make a 2D plot of the extracellular potential around the two-compartment neuron.\n",
    "* Make a double-logarithmic plot of how the potential varies with distance from the neuron when moving in the vertical direction, that is, along the line connecting the two compartments, starting from 10 µm below the soma compartment. Can you from the plot read out the characteristic $1/r^2$ dipolar decay expected for large distances? \n",
    "* Why doesn't the potential decay as $1/r^2$ close to the neuron?\n",
    "\n"
   ]
  },
  {
   "cell_type": "markdown",
   "id": "7b9226db",
   "metadata": {},
   "source": [
    "## Task 3: Three-compartment neuron\n",
    "We now consider a three-compartment model with three vertically aligned compartments where the lowest compartment corresponds to the soma, while the middle and top compartments correspond to dendritic compartments. The distance between neighbouring compartments is 50 µm. The middle compartment is a current sink with constant amplitude -1 nA, while the bottom and top compartments are current sources, both with 0.5 nA amplitudes. This could (maybe) mimic the effect of a (really) long-lasting excitatory input to the middle of an apical dendritic compartment.\n",
    "\n",
    "* Write the Python code to make a 2D plot of the extracellular potential around the three-compartment neuron.\n",
    "* Make a double-logarithmic plot of how the potential varies with distance from the neuron when moving in the vertical direction, that is, along the line connecting the two compartments? How does the potential decay with distance far away from the neuron? Why?\n",
    "\n"
   ]
  }
 ],
 "metadata": {
  "kernelspec": {
   "display_name": "EBRAINS-23.09",
   "language": "python",
   "name": "ebrains-23.09"
  },
  "language_info": {
   "codemirror_mode": {
    "name": "ipython",
    "version": 3
   },
   "file_extension": ".py",
   "mimetype": "text/x-python",
   "name": "python",
   "nbconvert_exporter": "python",
   "pygments_lexer": "ipython3",
   "version": "3.10.12"
  }
 },
 "nbformat": 4,
 "nbformat_minor": 5
}
